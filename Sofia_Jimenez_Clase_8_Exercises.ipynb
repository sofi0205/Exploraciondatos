{
  "nbformat": 4,
  "nbformat_minor": 0,
  "metadata": {
    "colab": {
      "provenance": []
    },
    "kernelspec": {
      "name": "python3",
      "display_name": "Python 3"
    },
    "language_info": {
      "name": "python"
    }
  },
  "cells": [
    {
      "cell_type": "markdown",
      "source": [
        "Taller Aplicado de Pivot Tables, Tablas de Contingencia y Melts"
      ],
      "metadata": {
        "id": "c4zeZQFnr2oV"
      }
    },
    {
      "cell_type": "code",
      "execution_count": 1,
      "metadata": {
        "colab": {
          "base_uri": "https://localhost:8080/"
        },
        "id": "LWCmQwhkpA0P",
        "outputId": "e04389ce-1518-4af9-e912-ccc7fe82ff31"
      },
      "outputs": [
        {
          "output_type": "stream",
          "name": "stdout",
          "text": [
            "--2024-10-03 21:25:32--  https://github.com/javierherrera1996/lecture_analytics/raw/refs/heads/main/time_series.zip\n",
            "Resolving github.com (github.com)... 140.82.116.3\n",
            "Connecting to github.com (github.com)|140.82.116.3|:443... connected.\n",
            "HTTP request sent, awaiting response... 302 Found\n",
            "Location: https://raw.githubusercontent.com/javierherrera1996/lecture_analytics/refs/heads/main/time_series.zip [following]\n",
            "--2024-10-03 21:25:32--  https://raw.githubusercontent.com/javierherrera1996/lecture_analytics/refs/heads/main/time_series.zip\n",
            "Resolving raw.githubusercontent.com (raw.githubusercontent.com)... 185.199.108.133, 185.199.109.133, 185.199.110.133, ...\n",
            "Connecting to raw.githubusercontent.com (raw.githubusercontent.com)|185.199.108.133|:443... connected.\n",
            "HTTP request sent, awaiting response... 200 OK\n",
            "Length: 15602616 (15M) [application/zip]\n",
            "Saving to: ‘time_series.zip’\n",
            "\n",
            "time_series.zip     100%[===================>]  14.88M  --.-KB/s    in 0.1s    \n",
            "\n",
            "2024-10-03 21:25:32 (144 MB/s) - ‘time_series.zip’ saved [15602616/15602616]\n",
            "\n",
            "Archive:  time_series.zip\n",
            "   creating: time_series/\n",
            "  inflating: time_series/fundamentals.csv  \n",
            "  inflating: __MACOSX/time_series/._fundamentals.csv  \n",
            "  inflating: time_series/prices.csv  \n",
            "  inflating: __MACOSX/time_series/._prices.csv  \n"
          ]
        }
      ],
      "source": [
        "!wget https://github.com/javierherrera1996/lecture_analytics/raw/refs/heads/main/time_series.zip\n",
        "!unzip time_series.zip\n",
        "!cp -r time_series/* ./"
      ]
    },
    {
      "cell_type": "markdown",
      "source": [
        "Contexto del Taller\n",
        "Tienes datos históricos de precios y volumen de transacciones de acciones de una empresa (AAPL). El objetivo es utilizar herramientas como pivot tables, tablas de contingencia y melts en Python para realizar un análisis exploratorio que pueda influir en decisiones de inversión o identificar tendencias.\n",
        "\n",
        "Preguntas de Pivot Tables (Enfocadas a Negocio)\n",
        "Calcula el volumen promedio de transacciones por mes para la acción AAPL.\n",
        "\n",
        "Contexto de negocio: El volumen mensual te ayuda a entender la liquidez de la acción y detectar patrones de alta actividad.\n"
      ],
      "metadata": {
        "id": "wSqt9pHNr6NB"
      }
    },
    {
      "cell_type": "code",
      "source": [
        "import pandas as pd\n",
        "data = pd.read_csv('prices.csv')\n",
        "data.head()"
      ],
      "metadata": {
        "id": "JqXg1bPisAzP",
        "colab": {
          "base_uri": "https://localhost:8080/",
          "height": 206
        },
        "outputId": "d07fd2ee-9bff-4061-980f-6f7cc35f1316"
      },
      "execution_count": 21,
      "outputs": [
        {
          "output_type": "execute_result",
          "data": {
            "text/plain": [
              "                  date symbol        open       close         low        high  \\\n",
              "0  2016-01-05 00:00:00   WLTW  123.430000  125.839996  122.309998  126.250000   \n",
              "1  2016-01-06 00:00:00   WLTW  125.239998  119.980003  119.940002  125.540001   \n",
              "2  2016-01-07 00:00:00   WLTW  116.379997  114.949997  114.930000  119.739998   \n",
              "3  2016-01-08 00:00:00   WLTW  115.480003  116.620003  113.500000  117.440002   \n",
              "4  2016-01-11 00:00:00   WLTW  117.010002  114.970001  114.089996  117.330002   \n",
              "\n",
              "      volume  \n",
              "0  2163600.0  \n",
              "1  2386400.0  \n",
              "2  2489500.0  \n",
              "3  2006300.0  \n",
              "4  1408600.0  "
            ],
            "text/html": [
              "\n",
              "  <div id=\"df-7602d51c-ceb2-4111-9680-6cf1fd61b4af\" class=\"colab-df-container\">\n",
              "    <div>\n",
              "<style scoped>\n",
              "    .dataframe tbody tr th:only-of-type {\n",
              "        vertical-align: middle;\n",
              "    }\n",
              "\n",
              "    .dataframe tbody tr th {\n",
              "        vertical-align: top;\n",
              "    }\n",
              "\n",
              "    .dataframe thead th {\n",
              "        text-align: right;\n",
              "    }\n",
              "</style>\n",
              "<table border=\"1\" class=\"dataframe\">\n",
              "  <thead>\n",
              "    <tr style=\"text-align: right;\">\n",
              "      <th></th>\n",
              "      <th>date</th>\n",
              "      <th>symbol</th>\n",
              "      <th>open</th>\n",
              "      <th>close</th>\n",
              "      <th>low</th>\n",
              "      <th>high</th>\n",
              "      <th>volume</th>\n",
              "    </tr>\n",
              "  </thead>\n",
              "  <tbody>\n",
              "    <tr>\n",
              "      <th>0</th>\n",
              "      <td>2016-01-05 00:00:00</td>\n",
              "      <td>WLTW</td>\n",
              "      <td>123.430000</td>\n",
              "      <td>125.839996</td>\n",
              "      <td>122.309998</td>\n",
              "      <td>126.250000</td>\n",
              "      <td>2163600.0</td>\n",
              "    </tr>\n",
              "    <tr>\n",
              "      <th>1</th>\n",
              "      <td>2016-01-06 00:00:00</td>\n",
              "      <td>WLTW</td>\n",
              "      <td>125.239998</td>\n",
              "      <td>119.980003</td>\n",
              "      <td>119.940002</td>\n",
              "      <td>125.540001</td>\n",
              "      <td>2386400.0</td>\n",
              "    </tr>\n",
              "    <tr>\n",
              "      <th>2</th>\n",
              "      <td>2016-01-07 00:00:00</td>\n",
              "      <td>WLTW</td>\n",
              "      <td>116.379997</td>\n",
              "      <td>114.949997</td>\n",
              "      <td>114.930000</td>\n",
              "      <td>119.739998</td>\n",
              "      <td>2489500.0</td>\n",
              "    </tr>\n",
              "    <tr>\n",
              "      <th>3</th>\n",
              "      <td>2016-01-08 00:00:00</td>\n",
              "      <td>WLTW</td>\n",
              "      <td>115.480003</td>\n",
              "      <td>116.620003</td>\n",
              "      <td>113.500000</td>\n",
              "      <td>117.440002</td>\n",
              "      <td>2006300.0</td>\n",
              "    </tr>\n",
              "    <tr>\n",
              "      <th>4</th>\n",
              "      <td>2016-01-11 00:00:00</td>\n",
              "      <td>WLTW</td>\n",
              "      <td>117.010002</td>\n",
              "      <td>114.970001</td>\n",
              "      <td>114.089996</td>\n",
              "      <td>117.330002</td>\n",
              "      <td>1408600.0</td>\n",
              "    </tr>\n",
              "  </tbody>\n",
              "</table>\n",
              "</div>\n",
              "    <div class=\"colab-df-buttons\">\n",
              "\n",
              "  <div class=\"colab-df-container\">\n",
              "    <button class=\"colab-df-convert\" onclick=\"convertToInteractive('df-7602d51c-ceb2-4111-9680-6cf1fd61b4af')\"\n",
              "            title=\"Convert this dataframe to an interactive table.\"\n",
              "            style=\"display:none;\">\n",
              "\n",
              "  <svg xmlns=\"http://www.w3.org/2000/svg\" height=\"24px\" viewBox=\"0 -960 960 960\">\n",
              "    <path d=\"M120-120v-720h720v720H120Zm60-500h600v-160H180v160Zm220 220h160v-160H400v160Zm0 220h160v-160H400v160ZM180-400h160v-160H180v160Zm440 0h160v-160H620v160ZM180-180h160v-160H180v160Zm440 0h160v-160H620v160Z\"/>\n",
              "  </svg>\n",
              "    </button>\n",
              "\n",
              "  <style>\n",
              "    .colab-df-container {\n",
              "      display:flex;\n",
              "      gap: 12px;\n",
              "    }\n",
              "\n",
              "    .colab-df-convert {\n",
              "      background-color: #E8F0FE;\n",
              "      border: none;\n",
              "      border-radius: 50%;\n",
              "      cursor: pointer;\n",
              "      display: none;\n",
              "      fill: #1967D2;\n",
              "      height: 32px;\n",
              "      padding: 0 0 0 0;\n",
              "      width: 32px;\n",
              "    }\n",
              "\n",
              "    .colab-df-convert:hover {\n",
              "      background-color: #E2EBFA;\n",
              "      box-shadow: 0px 1px 2px rgba(60, 64, 67, 0.3), 0px 1px 3px 1px rgba(60, 64, 67, 0.15);\n",
              "      fill: #174EA6;\n",
              "    }\n",
              "\n",
              "    .colab-df-buttons div {\n",
              "      margin-bottom: 4px;\n",
              "    }\n",
              "\n",
              "    [theme=dark] .colab-df-convert {\n",
              "      background-color: #3B4455;\n",
              "      fill: #D2E3FC;\n",
              "    }\n",
              "\n",
              "    [theme=dark] .colab-df-convert:hover {\n",
              "      background-color: #434B5C;\n",
              "      box-shadow: 0px 1px 3px 1px rgba(0, 0, 0, 0.15);\n",
              "      filter: drop-shadow(0px 1px 2px rgba(0, 0, 0, 0.3));\n",
              "      fill: #FFFFFF;\n",
              "    }\n",
              "  </style>\n",
              "\n",
              "    <script>\n",
              "      const buttonEl =\n",
              "        document.querySelector('#df-7602d51c-ceb2-4111-9680-6cf1fd61b4af button.colab-df-convert');\n",
              "      buttonEl.style.display =\n",
              "        google.colab.kernel.accessAllowed ? 'block' : 'none';\n",
              "\n",
              "      async function convertToInteractive(key) {\n",
              "        const element = document.querySelector('#df-7602d51c-ceb2-4111-9680-6cf1fd61b4af');\n",
              "        const dataTable =\n",
              "          await google.colab.kernel.invokeFunction('convertToInteractive',\n",
              "                                                    [key], {});\n",
              "        if (!dataTable) return;\n",
              "\n",
              "        const docLinkHtml = 'Like what you see? Visit the ' +\n",
              "          '<a target=\"_blank\" href=https://colab.research.google.com/notebooks/data_table.ipynb>data table notebook</a>'\n",
              "          + ' to learn more about interactive tables.';\n",
              "        element.innerHTML = '';\n",
              "        dataTable['output_type'] = 'display_data';\n",
              "        await google.colab.output.renderOutput(dataTable, element);\n",
              "        const docLink = document.createElement('div');\n",
              "        docLink.innerHTML = docLinkHtml;\n",
              "        element.appendChild(docLink);\n",
              "      }\n",
              "    </script>\n",
              "  </div>\n",
              "\n",
              "\n",
              "<div id=\"df-99cba2ef-a8af-4c93-8c95-d6148af6cd8e\">\n",
              "  <button class=\"colab-df-quickchart\" onclick=\"quickchart('df-99cba2ef-a8af-4c93-8c95-d6148af6cd8e')\"\n",
              "            title=\"Suggest charts\"\n",
              "            style=\"display:none;\">\n",
              "\n",
              "<svg xmlns=\"http://www.w3.org/2000/svg\" height=\"24px\"viewBox=\"0 0 24 24\"\n",
              "     width=\"24px\">\n",
              "    <g>\n",
              "        <path d=\"M19 3H5c-1.1 0-2 .9-2 2v14c0 1.1.9 2 2 2h14c1.1 0 2-.9 2-2V5c0-1.1-.9-2-2-2zM9 17H7v-7h2v7zm4 0h-2V7h2v10zm4 0h-2v-4h2v4z\"/>\n",
              "    </g>\n",
              "</svg>\n",
              "  </button>\n",
              "\n",
              "<style>\n",
              "  .colab-df-quickchart {\n",
              "      --bg-color: #E8F0FE;\n",
              "      --fill-color: #1967D2;\n",
              "      --hover-bg-color: #E2EBFA;\n",
              "      --hover-fill-color: #174EA6;\n",
              "      --disabled-fill-color: #AAA;\n",
              "      --disabled-bg-color: #DDD;\n",
              "  }\n",
              "\n",
              "  [theme=dark] .colab-df-quickchart {\n",
              "      --bg-color: #3B4455;\n",
              "      --fill-color: #D2E3FC;\n",
              "      --hover-bg-color: #434B5C;\n",
              "      --hover-fill-color: #FFFFFF;\n",
              "      --disabled-bg-color: #3B4455;\n",
              "      --disabled-fill-color: #666;\n",
              "  }\n",
              "\n",
              "  .colab-df-quickchart {\n",
              "    background-color: var(--bg-color);\n",
              "    border: none;\n",
              "    border-radius: 50%;\n",
              "    cursor: pointer;\n",
              "    display: none;\n",
              "    fill: var(--fill-color);\n",
              "    height: 32px;\n",
              "    padding: 0;\n",
              "    width: 32px;\n",
              "  }\n",
              "\n",
              "  .colab-df-quickchart:hover {\n",
              "    background-color: var(--hover-bg-color);\n",
              "    box-shadow: 0 1px 2px rgba(60, 64, 67, 0.3), 0 1px 3px 1px rgba(60, 64, 67, 0.15);\n",
              "    fill: var(--button-hover-fill-color);\n",
              "  }\n",
              "\n",
              "  .colab-df-quickchart-complete:disabled,\n",
              "  .colab-df-quickchart-complete:disabled:hover {\n",
              "    background-color: var(--disabled-bg-color);\n",
              "    fill: var(--disabled-fill-color);\n",
              "    box-shadow: none;\n",
              "  }\n",
              "\n",
              "  .colab-df-spinner {\n",
              "    border: 2px solid var(--fill-color);\n",
              "    border-color: transparent;\n",
              "    border-bottom-color: var(--fill-color);\n",
              "    animation:\n",
              "      spin 1s steps(1) infinite;\n",
              "  }\n",
              "\n",
              "  @keyframes spin {\n",
              "    0% {\n",
              "      border-color: transparent;\n",
              "      border-bottom-color: var(--fill-color);\n",
              "      border-left-color: var(--fill-color);\n",
              "    }\n",
              "    20% {\n",
              "      border-color: transparent;\n",
              "      border-left-color: var(--fill-color);\n",
              "      border-top-color: var(--fill-color);\n",
              "    }\n",
              "    30% {\n",
              "      border-color: transparent;\n",
              "      border-left-color: var(--fill-color);\n",
              "      border-top-color: var(--fill-color);\n",
              "      border-right-color: var(--fill-color);\n",
              "    }\n",
              "    40% {\n",
              "      border-color: transparent;\n",
              "      border-right-color: var(--fill-color);\n",
              "      border-top-color: var(--fill-color);\n",
              "    }\n",
              "    60% {\n",
              "      border-color: transparent;\n",
              "      border-right-color: var(--fill-color);\n",
              "    }\n",
              "    80% {\n",
              "      border-color: transparent;\n",
              "      border-right-color: var(--fill-color);\n",
              "      border-bottom-color: var(--fill-color);\n",
              "    }\n",
              "    90% {\n",
              "      border-color: transparent;\n",
              "      border-bottom-color: var(--fill-color);\n",
              "    }\n",
              "  }\n",
              "</style>\n",
              "\n",
              "  <script>\n",
              "    async function quickchart(key) {\n",
              "      const quickchartButtonEl =\n",
              "        document.querySelector('#' + key + ' button');\n",
              "      quickchartButtonEl.disabled = true;  // To prevent multiple clicks.\n",
              "      quickchartButtonEl.classList.add('colab-df-spinner');\n",
              "      try {\n",
              "        const charts = await google.colab.kernel.invokeFunction(\n",
              "            'suggestCharts', [key], {});\n",
              "      } catch (error) {\n",
              "        console.error('Error during call to suggestCharts:', error);\n",
              "      }\n",
              "      quickchartButtonEl.classList.remove('colab-df-spinner');\n",
              "      quickchartButtonEl.classList.add('colab-df-quickchart-complete');\n",
              "    }\n",
              "    (() => {\n",
              "      let quickchartButtonEl =\n",
              "        document.querySelector('#df-99cba2ef-a8af-4c93-8c95-d6148af6cd8e button');\n",
              "      quickchartButtonEl.style.display =\n",
              "        google.colab.kernel.accessAllowed ? 'block' : 'none';\n",
              "    })();\n",
              "  </script>\n",
              "</div>\n",
              "\n",
              "    </div>\n",
              "  </div>\n"
            ],
            "application/vnd.google.colaboratory.intrinsic+json": {
              "type": "dataframe",
              "variable_name": "data"
            }
          },
          "metadata": {},
          "execution_count": 21
        }
      ]
    },
    {
      "cell_type": "code",
      "source": [
        "pivot = pd.pivot_table(data, values='volume', index=pd.to_datetime(data['date']).dt.month, aggfunc='mean')\n",
        "print(pivot)"
      ],
      "metadata": {
        "colab": {
          "base_uri": "https://localhost:8080/"
        },
        "id": "BST8qRzrUpw3",
        "outputId": "e9dc3b0c-06b0-4000-9b29-74cd1e3c8e4a"
      },
      "execution_count": 32,
      "outputs": [
        {
          "output_type": "stream",
          "name": "stdout",
          "text": [
            "            volume\n",
            "date              \n",
            "1.0   6.186352e+06\n",
            "2.0   5.873075e+06\n",
            "3.0   5.431897e+06\n",
            "4.0   5.467876e+06\n",
            "5.0   5.542292e+06\n",
            "6.0   5.408829e+06\n",
            "7.0   5.098180e+06\n",
            "8.0   5.263288e+06\n",
            "9.0   5.346970e+06\n",
            "10.0  5.525488e+06\n",
            "11.0  5.238905e+06\n",
            "12.0  4.806105e+06\n"
          ]
        }
      ]
    },
    {
      "cell_type": "markdown",
      "source": [
        "Calcula el precio promedio de apertura y cierre por día de la semana.\n",
        "\n",
        "Contexto de negocio: Esto puede ayudar a identificar si hay días de la semana en los que la acción tiende a abrir o cerrar con precios más altos."
      ],
      "metadata": {
        "id": "NObhi-Rqr-X9"
      }
    },
    {
      "cell_type": "code",
      "source": [
        "data['date'] = pd.to_datetime(data['date'])\n",
        "data['day_of_week'] = data['date'].dt.dayofweek\n",
        "pivot_prices = pd.pivot_table(data, values=['open', 'close'], index='day_of_week', aggfunc='mean')\n",
        "print(pivot_prices)"
      ],
      "metadata": {
        "colab": {
          "base_uri": "https://localhost:8080/"
        },
        "id": "s9hxzbDCUy6v",
        "outputId": "f39f7948-a58d-4bbc-a85c-e4580cf23efe"
      },
      "execution_count": 36,
      "outputs": [
        {
          "output_type": "stream",
          "name": "stdout",
          "text": [
            "                 close       open\n",
            "day_of_week                      \n",
            "0.0          71.081415  71.084029\n",
            "1.0          70.971359  70.923853\n",
            "2.0          70.894125  70.883818\n",
            "3.0          70.828781  70.797563\n",
            "4.0          70.877954  70.865819\n"
          ]
        }
      ]
    },
    {
      "cell_type": "markdown",
      "source": [
        "Calcula el volumen total de transacciones por día de la semana y compara la actividad entre días.\n",
        "\n",
        "Contexto de negocio: Saber qué días tienen mayor actividad puede ayudarte a decidir cuándo realizar compras o ventas estratégicas."
      ],
      "metadata": {
        "id": "EuiXaaDHrBzj"
      }
    },
    {
      "cell_type": "code",
      "source": [
        "pivot_volume = pd.pivot_table(data, values='volume', index='day_of_week', aggfunc='sum')\n",
        "print(pivot_volume)"
      ],
      "metadata": {
        "colab": {
          "base_uri": "https://localhost:8080/"
        },
        "id": "iv7RZBO8VVlW",
        "outputId": "4f1a4e23-937b-4894-d85b-9123547ed154"
      },
      "execution_count": 38,
      "outputs": [
        {
          "output_type": "stream",
          "name": "stdout",
          "text": [
            "                   volume\n",
            "day_of_week              \n",
            "0.0          7.961518e+11\n",
            "1.0          9.417672e+11\n",
            "2.0          9.607407e+11\n",
            "3.0          9.549972e+11\n",
            "4.0          9.530132e+11\n"
          ]
        }
      ]
    },
    {
      "cell_type": "markdown",
      "source": [
        "Calcula los precios máximos y mínimos de apertura por mes.\n",
        "\n",
        "Contexto de negocio: Esto te permitirá evaluar la volatilidad mensual de la acción."
      ],
      "metadata": {
        "id": "F7JD1MvdryJA"
      }
    },
    {
      "cell_type": "code",
      "source": [
        "pivot_open_range = pd.pivot_table(data, values='open', index=pd.to_datetime(data['date']).dt.month, aggfunc=['min', 'max'])\n",
        "print(pivot_open_range)"
      ],
      "metadata": {
        "colab": {
          "base_uri": "https://localhost:8080/"
        },
        "id": "AgP66_0KVbsv",
        "outputId": "3a6c7ae5-dcfe-44a1-a3c6-7c61cbd7a9cf"
      },
      "execution_count": 39,
      "outputs": [
        {
          "output_type": "stream",
          "name": "stdout",
          "text": [
            "       min          max\n",
            "      open         open\n",
            "date                   \n",
            "1.0   0.98  1256.000000\n",
            "2.0   1.19  1358.520020\n",
            "3.0   1.29  1372.550049\n",
            "4.0   1.42  1359.880005\n",
            "5.0   1.22  1349.000000\n",
            "6.0   1.10  1374.000000\n",
            "7.0   1.00  1362.000000\n",
            "8.0   1.02  1440.000000\n",
            "9.0   0.94  1478.069946\n",
            "10.0  0.85  1498.739990\n",
            "11.0  0.88  1584.439941\n",
            "12.0  0.93  1560.550049\n"
          ]
        }
      ]
    },
    {
      "cell_type": "markdown",
      "source": [
        "Calcula el volumen promedio por mes y acción (suponiendo que tienes datos de múltiples acciones).\n",
        "\n",
        "Contexto de negocio: Esta información te ayuda a comparar la liquidez de diferentes acciones a lo largo del tiempo.\n"
      ],
      "metadata": {
        "id": "Kd2KertnFuEY"
      }
    },
    {
      "cell_type": "code",
      "source": [
        "pivot_volume_by_symbol = pd.pivot_table(data, values='volume', index=pd.to_datetime(data['date']).dt.month, columns='symbol', aggfunc='mean')\n",
        "print(pivot_volume_by_symbol)"
      ],
      "metadata": {
        "colab": {
          "base_uri": "https://localhost:8080/"
        },
        "id": "7eeAdKNDVhrG",
        "outputId": "c19eebb0-f713-4913-ef4a-f20921d2dd94"
      },
      "execution_count": 41,
      "outputs": [
        {
          "output_type": "stream",
          "name": "stdout",
          "text": [
            "symbol             A           AAL           AAP          AAPL          ABBV  \\\n",
            "date                                                                           \n",
            "1.0     3.888672e+06  1.098598e+07  9.144943e+05  1.161829e+08  1.037651e+07   \n",
            "2.0     4.546966e+06  1.018560e+07  1.348118e+06  1.008418e+08  9.280825e+06   \n",
            "3.0     3.863475e+06  9.480600e+06  9.664810e+05  9.928482e+07  7.987967e+06   \n",
            "4.0     3.662966e+06  1.012652e+07  9.021288e+05  1.063230e+08  8.615392e+06   \n",
            "5.0     4.324466e+06  9.368007e+06  1.290746e+06  9.983357e+07  7.595579e+06   \n",
            "6.0     3.656155e+06  1.060145e+07  1.108084e+06  8.707913e+07  7.652599e+06   \n",
            "7.0     3.506815e+06  9.621895e+06  9.973223e+05  8.933261e+07  8.677993e+06   \n",
            "8.0     4.313608e+06  8.599497e+06  1.130777e+06  8.832097e+07  7.622201e+06   \n",
            "9.0     4.094928e+06  7.721134e+06  8.547257e+05  9.802300e+07  8.620758e+06   \n",
            "10.0    4.003411e+06  9.249721e+06  8.346382e+05  9.538592e+07  1.106515e+07   \n",
            "11.0    4.080029e+06  7.741889e+06  1.109965e+06  8.006366e+07  7.043374e+06   \n",
            "12.0    3.240826e+06  8.661403e+06  8.302430e+05  7.195554e+07  7.097892e+06   \n",
            "\n",
            "symbol           ABC           ABT           ACN          ADBE           ADI  \\\n",
            "date                                                                           \n",
            "1.0     2.548056e+06  1.325033e+07  3.601873e+06  4.211021e+06  2.912094e+06   \n",
            "2.0     2.589039e+06  1.196447e+07  2.847839e+06  4.483836e+06  2.924681e+06   \n",
            "3.0     2.375173e+06  1.124450e+07  3.360784e+06  4.850338e+06  2.577234e+06   \n",
            "4.0     2.644884e+06  1.114836e+07  3.143941e+06  4.158973e+06  2.534047e+06   \n",
            "5.0     2.724905e+06  1.152623e+07  3.131554e+06  3.819426e+06  2.895205e+06   \n",
            "6.0     2.446443e+06  1.024771e+07  4.114279e+06  5.235625e+06  2.662815e+06   \n",
            "7.0     2.821143e+06  1.063691e+07  4.152667e+06  3.754829e+06  2.600807e+06   \n",
            "8.0     2.401856e+06  1.002206e+07  3.232297e+06  3.932317e+06  3.244670e+06   \n",
            "9.0     2.201436e+06  9.810135e+06  3.693463e+06  6.625319e+06  3.004626e+06   \n",
            "10.0    2.401765e+06  1.324081e+07  3.365682e+06  5.480549e+06  3.053055e+06   \n",
            "11.0    2.368521e+06  1.000409e+07  2.746651e+06  4.046638e+06  2.816634e+06   \n",
            "12.0    2.020474e+06  9.883299e+06  3.266350e+06  4.501032e+06  2.535543e+06   \n",
            "\n",
            "symbol  ...          XLNX           XOM          XRAY           XRX  \\\n",
            "date    ...                                                           \n",
            "1.0     ...  4.768020e+06  1.887919e+07  9.877564e+05  1.301062e+07   \n",
            "2.0     ...  3.868827e+06  1.782198e+07  1.276788e+06  1.161314e+07   \n",
            "3.0     ...  4.248221e+06  1.637138e+07  1.120701e+06  9.433648e+06   \n",
            "4.0     ...  3.970148e+06  1.467051e+07  8.556925e+05  1.243328e+07   \n",
            "5.0     ...  4.134779e+06  1.632640e+07  1.132903e+06  1.138476e+07   \n",
            "6.0     ...  3.905790e+06  1.828223e+07  1.082834e+06  9.928865e+06   \n",
            "7.0     ...  4.533739e+06  1.495730e+07  1.029400e+06  1.205374e+07   \n",
            "8.0     ...  3.825930e+06  1.664295e+07  1.100071e+06  1.111915e+07   \n",
            "9.0     ...  3.708073e+06  1.587874e+07  1.040136e+06  1.141830e+07   \n",
            "10.0    ...  4.352062e+06  1.529998e+07  1.235081e+06  1.201971e+07   \n",
            "11.0    ...  3.432903e+06  1.525939e+07  1.039184e+06  1.000935e+07   \n",
            "12.0    ...  3.167854e+06  1.563303e+07  8.985315e+05  9.273506e+06   \n",
            "\n",
            "symbol           XYL          YHOO           YUM           ZBH          ZION  \\\n",
            "date                                                                           \n",
            "1.0     1.097115e+06  2.121437e+07  5.451999e+06  1.628294e+06  4.340536e+06   \n",
            "2.0     1.377095e+06  1.891184e+07  6.194944e+06  1.416115e+06  3.387374e+06   \n",
            "3.0     1.168436e+06  1.817914e+07  4.606441e+06  1.307494e+06  3.581410e+06   \n",
            "4.0     1.127929e+06  2.065459e+07  5.735678e+06  1.619102e+06  3.397439e+06   \n",
            "5.0     1.048024e+06  2.168594e+07  4.643710e+06  1.491638e+06  2.932590e+06   \n",
            "6.0     1.078479e+06  1.625987e+07  4.649231e+06  1.525409e+06  3.235841e+06   \n",
            "7.0     1.108699e+06  1.918182e+07  5.667109e+06  1.459993e+06  3.436923e+06   \n",
            "8.0     1.229038e+06  1.633911e+07  4.938458e+06  1.532020e+06  2.765541e+06   \n",
            "9.0     1.328994e+06  2.870529e+07  4.649112e+06  1.535185e+06  2.927651e+06   \n",
            "10.0    1.433639e+06  2.388451e+07  6.476905e+06  1.675453e+06  3.118588e+06   \n",
            "11.0    1.241651e+06  1.903468e+07  4.607812e+06  1.623486e+06  2.666006e+06   \n",
            "12.0    9.321186e+05  1.598091e+07  4.426423e+06  1.311636e+06  2.998091e+06   \n",
            "\n",
            "symbol           ZTS  \n",
            "date                  \n",
            "1.0     3.654140e+06  \n",
            "2.0     5.403823e+06  \n",
            "3.0     3.677424e+06  \n",
            "4.0     3.132239e+06  \n",
            "5.0     3.694275e+06  \n",
            "6.0     5.958001e+06  \n",
            "7.0     3.783186e+06  \n",
            "8.0     3.819906e+06  \n",
            "9.0     3.633098e+06  \n",
            "10.0    3.654946e+06  \n",
            "11.0    4.843051e+06  \n",
            "12.0    3.081085e+06  \n",
            "\n",
            "[12 rows x 498 columns]\n"
          ]
        }
      ]
    },
    {
      "cell_type": "markdown",
      "source": [
        "Calcula el precio de cierre promedio de la acción AAPL por mes, y agrega una columna con el total de transacciones en cada mes.\n",
        "\n",
        "Contexto de negocio: Esto te permite comparar el comportamiento de los precios con el volumen de transacciones, para entender si hay algún patrón de venta o compra en función del precio."
      ],
      "metadata": {
        "id": "Bi9wyS9lFw-S"
      }
    },
    {
      "cell_type": "code",
      "source": [
        "pivot_close_volume = pd.pivot_table(data, values=['close', 'volume'], index=pd.to_datetime(data['date']).dt.month, aggfunc={'close': 'mean', 'volume': 'sum'})\n",
        "print(pivot_close_volume)"
      ],
      "metadata": {
        "colab": {
          "base_uri": "https://localhost:8080/"
        },
        "id": "Wufz3SrnVzCe",
        "outputId": "4604401b-efe6-444c-ffa6-f3ee33274e1c"
      },
      "execution_count": 42,
      "outputs": [
        {
          "output_type": "stream",
          "name": "stdout",
          "text": [
            "          close        volume\n",
            "date                         \n",
            "1.0   67.810612  4.166199e+11\n",
            "2.0   68.744791  3.815091e+11\n",
            "3.0   70.318585  3.996626e+11\n",
            "4.0   71.234032  3.842605e+11\n",
            "5.0   71.098155  3.920617e+11\n",
            "6.0   70.388173  3.907176e+11\n",
            "7.0   71.468803  3.639948e+11\n",
            "8.0   70.479206  3.933571e+11\n",
            "9.0   70.873835  3.715663e+11\n",
            "10.0  71.636090  4.054437e+11\n",
            "11.0  72.710730  3.614949e+11\n",
            "12.0  74.072240  3.459819e+11\n"
          ]
        }
      ]
    },
    {
      "cell_type": "code",
      "source": [
        "average_close_price_and_total_volume = data.groupby('Month').agg({'close': 'mean', 'volume': 'sum'})\n",
        "print(average_close_price_and_total_volume)"
      ],
      "metadata": {
        "id": "GhnLngACF0zq",
        "colab": {
          "base_uri": "https://localhost:8080/"
        },
        "outputId": "5754ceca-dc22-4cca-d2f9-f408b9e294da"
      },
      "execution_count": 30,
      "outputs": [
        {
          "output_type": "stream",
          "name": "stdout",
          "text": [
            "           close        volume\n",
            "Month                         \n",
            "1.0    67.810612  4.166199e+11\n",
            "2.0    68.744791  3.815091e+11\n",
            "3.0    70.318585  3.996626e+11\n",
            "4.0    71.234032  3.842605e+11\n",
            "5.0    71.098155  3.920617e+11\n",
            "6.0    70.388173  3.907176e+11\n",
            "7.0    71.468803  3.639948e+11\n",
            "8.0    70.479206  3.933571e+11\n",
            "9.0    70.873835  3.715663e+11\n",
            "10.0   71.636090  4.054437e+11\n",
            "11.0   72.710730  3.614949e+11\n",
            "12.0   74.072240  3.459819e+11\n"
          ]
        }
      ]
    },
    {
      "cell_type": "markdown",
      "source": [
        "Preguntas de Tablas de Contingencia (Aplicadas a Negocios)\n",
        "Crea una tabla de contingencia para contar cuántos días el precio de apertura fue mayor o igual a $155 y cuántos días fue menor a $155.\n",
        "\n",
        "Contexto de negocio: Esto te ayuda a entender cómo se distribuyen los precios de apertura alrededor de un umbral crítico de $155."
      ],
      "metadata": {
        "id": "pUuT9YI3F1Dj"
      }
    },
    {
      "cell_type": "code",
      "source": [
        "import pandas as pd\n",
        "data['open_above_155'] = data['open'] >= 155\n",
        "contingency_table = pd.crosstab(index=data['open_above_155'], columns='count')\n",
        "print(contingency_table)"
      ],
      "metadata": {
        "id": "4dM_dP8TF6x8",
        "colab": {
          "base_uri": "https://localhost:8080/"
        },
        "outputId": "1ec9ca49-ab06-4f6d-82e8-1fb1a14faa9f"
      },
      "execution_count": 44,
      "outputs": [
        {
          "output_type": "stream",
          "name": "stdout",
          "text": [
            "col_0            count\n",
            "open_above_155        \n",
            "False           800961\n",
            "True             50303\n"
          ]
        }
      ]
    },
    {
      "cell_type": "markdown",
      "source": [
        "Genera una tabla de contingencia para contar cuántos días el volumen de transacciones fue mayor o igual a 75 millones y cuántos días fue menor.\n",
        "\n",
        "Contexto de negocio: Identificar días de alto volumen de transacciones es clave para entender cuándo hubo más interés en la compra/venta de la acción."
      ],
      "metadata": {
        "id": "3lLqxPVvF7IC"
      }
    },
    {
      "cell_type": "code",
      "source": [
        "data['volume_above_75M'] = data['volume'] >= 75000000\n",
        "contingency_table_volume = pd.crosstab(index=data['volume_above_75M'], columns='count')\n",
        "print(contingency_table_volume)"
      ],
      "metadata": {
        "id": "9asT7zPKF9sJ",
        "colab": {
          "base_uri": "https://localhost:8080/"
        },
        "outputId": "d4b82a4b-321d-4cf2-fcc8-9a682bc0b970"
      },
      "execution_count": 46,
      "outputs": [
        {
          "output_type": "stream",
          "name": "stdout",
          "text": [
            "col_0              count\n",
            "volume_above_75M        \n",
            "False             847171\n",
            "True                4093\n"
          ]
        }
      ]
    },
    {
      "cell_type": "markdown",
      "source": [
        "Crea una tabla de contingencia que muestre cuántos días el precio de cierre fue mayor o igual al precio de apertura, y cuántos días fue menor.\n",
        "\n",
        "Contexto de negocio: Saber en cuántos días la acción cerró por encima o por debajo del precio de apertura puede darte una idea general del rendimiento de la acción."
      ],
      "metadata": {
        "id": "Fl5U-mJIF9-E"
      }
    },
    {
      "cell_type": "code",
      "source": [
        "data['close_above_open'] = data['close'] >= data['open']\n",
        "contingency_table_close_open = pd.crosstab(index=data['close_above_open'], columns='count')\n",
        "print(contingency_table_close_open)"
      ],
      "metadata": {
        "id": "wWgJrNSlGAV5",
        "colab": {
          "base_uri": "https://localhost:8080/"
        },
        "outputId": "6116ac78-1def-41bb-f067-147a4f89ba4c"
      },
      "execution_count": 48,
      "outputs": [
        {
          "output_type": "stream",
          "name": "stdout",
          "text": [
            "col_0              count\n",
            "close_above_open        \n",
            "False             406500\n",
            "True              444764\n"
          ]
        }
      ]
    },
    {
      "cell_type": "markdown",
      "source": [
        "Añade márgenes (totales) a la tabla de contingencia anterior para conocer el total de días con subidas y bajadas de precio.\n",
        "\n",
        "Contexto de negocio: Analizar cuántos días en general la acción tuvo subidas o bajadas te da un panorama más amplio del comportamiento de la acción."
      ],
      "metadata": {
        "id": "uRLZ1pTRGAju"
      }
    },
    {
      "cell_type": "code",
      "source": [
        "contingency_table_close_open_margins = pd.crosstab(index=data['close_above_open'], columns='count', margins=True)\n",
        "print(contingency_table_close_open_margins)"
      ],
      "metadata": {
        "id": "2Qmh2spuGD9q",
        "colab": {
          "base_uri": "https://localhost:8080/"
        },
        "outputId": "fdc6d4ee-12f4-45ab-8976-f307ec68caec"
      },
      "execution_count": 49,
      "outputs": [
        {
          "output_type": "stream",
          "name": "stdout",
          "text": [
            "col_0              count     All\n",
            "close_above_open                \n",
            "False             406500  406500\n",
            "True              444764  444764\n",
            "All               851264  851264\n"
          ]
        }
      ]
    },
    {
      "cell_type": "markdown",
      "source": [
        "Crea una tabla de contingencia que compare cuántos días el precio de apertura fue mayor o igual a $155 y al mismo tiempo el precio de cierre ajustado fue mayor o menor a $155.\n",
        "\n",
        "Contexto de negocio: Esto permite identificar patrones donde el precio de apertura y el precio de cierre ajustado cruzan umbrales críticos, lo que es útil para ajustes en las estrategias de compra/venta."
      ],
      "metadata": {
        "id": "2U-4wGeQGEOE"
      }
    },
    {
      "cell_type": "code",
      "source": [
        "data['open_above_155'] = data['open'] >= 155\n",
        "data['adjclose_above_155'] = data['close'] >= 155\n",
        "contingency_table_open_adjclose = pd.crosstab(index=data['open_above_155'], columns=data['adjclose_above_155'])\n",
        "print(contingency_table_open_adjclose)"
      ],
      "metadata": {
        "id": "eIYEVTprGGv3",
        "colab": {
          "base_uri": "https://localhost:8080/"
        },
        "outputId": "d236c2c7-8327-42cc-8462-faeba017b732"
      },
      "execution_count": 52,
      "outputs": [
        {
          "output_type": "stream",
          "name": "stdout",
          "text": [
            "adjclose_above_155   False  True \n",
            "open_above_155                   \n",
            "False               800422    539\n",
            "True                   489  49814\n"
          ]
        }
      ]
    },
    {
      "cell_type": "markdown",
      "source": [
        "Preguntas de Melts (Aplicadas a Negocios)\n",
        "Transforma las columnas de precios (Open, Close, High, Low) en una única columna llamada Precio, manteniendo la fecha (Date) y el tipo de acción (Stock).\n",
        "\n",
        "Contexto de negocio: Este formato largo es ideal para realizar visualizaciones comparativas de diferentes precios de la acción a lo largo del tiempo."
      ],
      "metadata": {
        "id": "O74ohdTbGHAt"
      }
    },
    {
      "cell_type": "code",
      "source": [
        "melted_data = pd.melt(data, id_vars=['date', 'symbol'], value_vars=['open', 'close', 'high', 'low'], var_name='Precio_Tipo', value_name='Precio')\n",
        "print(melted_data)"
      ],
      "metadata": {
        "id": "gDbe8j-uGKlX",
        "colab": {
          "base_uri": "https://localhost:8080/"
        },
        "outputId": "a8b2c175-390d-4b2c-ca15-13ca4845128f"
      },
      "execution_count": 53,
      "outputs": [
        {
          "output_type": "stream",
          "name": "stdout",
          "text": [
            "              date symbol Precio_Tipo      Precio\n",
            "0              NaT   WLTW        open  123.430000\n",
            "1              NaT   WLTW        open  125.239998\n",
            "2              NaT   WLTW        open  116.379997\n",
            "3              NaT   WLTW        open  115.480003\n",
            "4              NaT   WLTW        open  117.010002\n",
            "...            ...    ...         ...         ...\n",
            "3405051 2016-12-30    ZBH         low  102.849998\n",
            "3405052 2016-12-30   ZION         low   42.689999\n",
            "3405053 2016-12-30    ZTS         low   53.270000\n",
            "3405054        NaT    AIV         low   44.410000\n",
            "3405055        NaT    FTV         low   53.389999\n",
            "\n",
            "[3405056 rows x 4 columns]\n"
          ]
        }
      ]
    },
    {
      "cell_type": "markdown",
      "source": [
        "Convierte todas las columnas del dataset, excepto Date y Stock, en un formato largo usando melt.\n",
        "\n",
        "Contexto de negocio: Tener todas las variables en un formato largo es útil para generar reportes dinámicos que comparen diferentes tipos de datos (precios, volumen, etc.)."
      ],
      "metadata": {
        "id": "jUE9CvxMGKQA"
      }
    },
    {
      "cell_type": "code",
      "source": [
        "melted_data_all = pd.melt(data, id_vars=['date', 'symbol'], var_name='Variable', value_name='Valor')\n",
        "print(melted_data_all)"
      ],
      "metadata": {
        "id": "qloWM0gpGNNm",
        "colab": {
          "base_uri": "https://localhost:8080/"
        },
        "outputId": "105ddf3b-c764-4cfb-847b-833300f4c460"
      },
      "execution_count": 54,
      "outputs": [
        {
          "output_type": "stream",
          "name": "stdout",
          "text": [
            "               date symbol            Variable       Valor\n",
            "0               NaT   WLTW                open      123.43\n",
            "1               NaT   WLTW                open  125.239998\n",
            "2               NaT   WLTW                open  116.379997\n",
            "3               NaT   WLTW                open  115.480003\n",
            "4               NaT   WLTW                open  117.010002\n",
            "...             ...    ...                 ...         ...\n",
            "10215163 2016-12-30    ZBH  adjclose_above_155         0.0\n",
            "10215164 2016-12-30   ZION  adjclose_above_155         0.0\n",
            "10215165 2016-12-30    ZTS  adjclose_above_155         0.0\n",
            "10215166        NaT    AIV  adjclose_above_155         0.0\n",
            "10215167        NaT    FTV  adjclose_above_155         0.0\n",
            "\n",
            "[10215168 rows x 4 columns]\n"
          ]
        }
      ]
    },
    {
      "cell_type": "markdown",
      "source": [
        "Usa melt para convertir los precios (Open, Close, High, Low) y el volumen (Volume) en una sola columna de valor. Luego, agrupa los datos por tipo de precio y acción para calcular el promedio de cada tipo.\n",
        "\n",
        "Contexto de negocio: Este análisis permite comparar el comportamiento de diferentes precios y el volumen en un solo análisis, lo cual es útil para entender tendencias generales de la acción."
      ],
      "metadata": {
        "id": "tRKkXY7ZGNcc"
      }
    },
    {
      "cell_type": "code",
      "source": [
        "melted_data_prices_volume = pd.melt(data, id_vars=['date', 'symbol'], value_vars=['open', 'close', 'high', 'low', 'volume'], var_name='Precio_Volumen_Tipo', value_name='Valor')\n",
        "average_prices_volume = melted_data_prices_volume.groupby(['Precio_Volumen_Tipo', 'symbol'])['Valor'].mean()\n",
        "print(average_prices_volume)"
      ],
      "metadata": {
        "id": "yO2YZpm8GQDW",
        "colab": {
          "base_uri": "https://localhost:8080/"
        },
        "outputId": "3fc132e3-ef4e-4ecf-bcae-e58057f40116"
      },
      "execution_count": 56,
      "outputs": [
        {
          "output_type": "stream",
          "name": "stdout",
          "text": [
            "Precio_Volumen_Tipo  symbol\n",
            "close                A         4.253944e+01\n",
            "                     AAL       2.387377e+01\n",
            "                     AAP       1.037696e+02\n",
            "                     AAPL      3.129271e+02\n",
            "                     ABBV      5.547364e+01\n",
            "                                   ...     \n",
            "volume               YHOO      1.996907e+07\n",
            "                     YUM       5.163684e+06\n",
            "                     ZBH       1.509946e+06\n",
            "                     ZION      3.227187e+06\n",
            "                     ZTS       4.020115e+06\n",
            "Name: Valor, Length: 2505, dtype: float64\n"
          ]
        }
      ]
    },
    {
      "cell_type": "markdown",
      "source": [
        "Realiza una transformación melt para convertir los precios en una columna y agrúpalos por día para calcular el precio promedio diario de la acción.\n",
        "\n",
        "Contexto de negocio: Esto proporciona una visión agregada del comportamiento promedio de los precios diarios de la acción."
      ],
      "metadata": {
        "id": "8GrWsiq5GQQ4"
      }
    },
    {
      "cell_type": "code",
      "source": [
        "melted_data_daily_average = pd.melt(data, id_vars=['date'], value_vars=['open', 'close', 'high', 'low'], var_name='Precio_Tipo', value_name='Precio')\n",
        "daily_average_price = melted_data_daily_average.groupby('date')['Precio'].mean()\n",
        "print(daily_average_price)"
      ],
      "metadata": {
        "id": "57tn7YZlGUjH",
        "colab": {
          "base_uri": "https://localhost:8080/"
        },
        "outputId": "0c4acabb-c378-4f5a-97a5-42570855ad94"
      },
      "execution_count": 57,
      "outputs": [
        {
          "output_type": "stream",
          "name": "stdout",
          "text": [
            "date\n",
            "2010-01-04    46.766048\n",
            "2010-01-05    46.826185\n",
            "2010-01-06    46.915987\n",
            "2010-01-07    46.926233\n",
            "2010-01-08    47.029547\n",
            "                ...    \n",
            "2016-12-23    90.427329\n",
            "2016-12-27    90.810922\n",
            "2016-12-28    90.453337\n",
            "2016-12-29    90.006193\n",
            "2016-12-30    89.839287\n",
            "Name: Precio, Length: 1762, dtype: float64\n"
          ]
        }
      ]
    }
  ]
}